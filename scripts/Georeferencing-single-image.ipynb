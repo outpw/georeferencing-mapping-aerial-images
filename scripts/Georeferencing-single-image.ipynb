{
 "cells": [
  {
   "cell_type": "markdown",
   "metadata": {},
   "source": [
    "# Automating the georeferencing process\n",
    "The notebook below will process a single image: 1936 Olney Springs via figshare.  This code will eventually be turned into chunks of .py files and full of loops, but this will give you an idea of how the workflow currently stands.  For this workflow, you will need:\n",
    "\n",
    "CELL 2:\n",
    "- an image to georeference \n",
    "- a path to that image named `input_path`\n",
    "- an output path for the processed image named `output_path`\n",
    "\n",
    "CELL 4:\n",
    "- the lat/long centroid coordinates\n",
    "- the estimated pixel size, positive and negative form \n"
   ]
  },
  {
   "cell_type": "code",
   "execution_count": 1,
   "metadata": {},
   "outputs": [],
   "source": [
    "# Import packages\n",
    "import os\n",
    "from glob import glob\n",
    "from osgeo import gdal, osr\n",
    "\n",
    "import pyproj\n",
    "from pyproj import Proj\n",
    "\n",
    "import earthpy as et"
   ]
  },
  {
   "cell_type": "code",
   "execution_count": 2,
   "metadata": {},
   "outputs": [
    {
     "name": "stdout",
     "output_type": "stream",
     "text": [
      "Downloading from https://ndownloader.figshare.com/files/22694774\n"
     ]
    }
   ],
   "source": [
    "# Download data\n",
    "url = \"https://ndownloader.figshare.com/files/22694774\"\n",
    "et.data.get_data(url=url, replace=True)\n",
    "\n",
    "# Set working directory\n",
    "os.chdir(os.path.join(et.io.HOME, 'earth-analytics'))\n",
    "\n",
    "# Set paths to image pre-processed and post-processed\n",
    "input_path = os.path.join('data','earthpy-downloads','ag274055.tif')\n",
    "output_path = os.path.join('2020_fellowship', 'outputs', 'olneySprings_georef.tiff')"
   ]
  },
  {
   "cell_type": "code",
   "execution_count": 3,
   "metadata": {},
   "outputs": [
    {
     "name": "stdout",
     "output_type": "stream",
     "text": [
      "6089 5032\n"
     ]
    }
   ],
   "source": [
    "# Import source image\n",
    "src_ds = gdal.Open(input_path)\n",
    "\n",
    "# Describe source image size\n",
    "x_height = src_ds.RasterXSize\n",
    "y_width = src_ds.RasterYSize\n",
    "print(x_height, y_width)"
   ]
  },
  {
   "cell_type": "code",
   "execution_count": 4,
   "metadata": {},
   "outputs": [
    {
     "name": "stdout",
     "output_type": "stream",
     "text": [
      "Centroid UTM coordinates:  592511.2279902438 4225142.443000773\n",
      "Top left UTM coordinates:  589616.5727182438 4227534.527539773\n"
     ]
    }
   ],
   "source": [
    "# Convert decimal degree centroids to UTMs (testing with single lon/lat)\n",
    "# Centroid of yl022068.jpg via spreadsheet\n",
    "lon = -103.94388889\n",
    "lat = 38.16944444\n",
    "\n",
    "myProj = Proj(\"+proj=utm +zone=13N, +north +ellps=WGS84 +datum=WGS84 +units=m +no_defs\")\n",
    "easting,northing = myProj(lon, lat) \n",
    "print('Centroid UTM coordinates: ', easting, northing)\n",
    "\n",
    "# Counting with pixels\n",
    "pixel_size_estim = 0.950938\n",
    "neg_pixel_size_estim = -0.950938\n",
    "top_img_pixel = ((x_height/2)-1)\n",
    "left_img_pixel = ((y_width/2)-1)\n",
    "\n",
    "# Math to get to top left corner easting coordinate from centroid\n",
    "x_topleft = easting - (pixel_size_estim/2) - (pixel_size_estim * top_img_pixel)\n",
    "y_topleft = northing + (pixel_size_estim/2) + (pixel_size_estim * left_img_pixel)\n",
    "print('Top left UTM coordinates: ', x_topleft, y_topleft)"
   ]
  },
  {
   "cell_type": "code",
   "execution_count": 5,
   "metadata": {},
   "outputs": [],
   "source": [
    "# Reformatting the image to geotiff\n",
    "format = 'GTiff'\n",
    "driver = gdal.GetDriverByName(format)\n",
    "\n",
    "# Create copy with new name\n",
    "dst_ds = driver.CreateCopy(output_path, src_ds, 0)\n",
    "\n",
    "# Set top left corner coordinates in UTM with pixel size and rotation\n",
    "gt = [x_topleft, pixel_size_estim, 0, y_topleft, 0, neg_pixel_size_estim]\n",
    "dst_ds.SetGeoTransform(gt)\n",
    "\n",
    "# Assign CRS\n",
    "epsg = 32613 #utm zone 13n\n",
    "srs = osr.SpatialReference()\n",
    "srs.ImportFromEPSG(epsg)\n",
    "dst_wkt = srs.ExportToWkt()\n",
    "dst_ds.SetProjection(dst_wkt)\n",
    "\n",
    "# Close and finalize dst_ds \n",
    "dst_ds = None \n",
    "src_ds = None"
   ]
  }
 ],
 "metadata": {
  "kernelspec": {
   "display_name": "Python 3",
   "language": "python",
   "name": "python3"
  },
  "language_info": {
   "codemirror_mode": {
    "name": "ipython",
    "version": 3
   },
   "file_extension": ".py",
   "mimetype": "text/x-python",
   "name": "python",
   "nbconvert_exporter": "python",
   "pygments_lexer": "ipython3",
   "version": "3.7.6"
  },
  "toc": {
   "base_numbering": 1,
   "nav_menu": {},
   "number_sections": true,
   "sideBar": true,
   "skip_h1_title": false,
   "title_cell": "Table of Contents",
   "title_sidebar": "Contents",
   "toc_cell": false,
   "toc_position": {},
   "toc_section_display": true,
   "toc_window_display": false
  }
 },
 "nbformat": 4,
 "nbformat_minor": 4
}
