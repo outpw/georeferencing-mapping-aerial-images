{
 "cells": [
  {
   "cell_type": "markdown",
   "metadata": {},
   "source": [
    "# Automating the georeferencing process\n",
    "The notebook below will process a single image: 1936 Olney Springs via figshare.  This code will eventually be turned into chunks of .py files and full of loops, but this will give you an idea of how the workflow currently stands.  For this workflow, you will need to hard code:\n",
    "\n",
    "CELL 2:\n",
    "- `img_format`:the image format (e.g. .jpg vs .tif)\n",
    "- `specified_df`: the .csv name with image and centroid data\n",
    "- `pixel_size_estim`: the pixel size as a float (for this workflow, pixel size was caculated by hand using QGIS)\n",
    "- `neg_pixel_size_estim`: the negative form of the above float\n",
    "\n",
    "CELL 3: \n",
    "- `img_input_path`: path to images\n",
    "- `output_dir`: path to write the processed image \n",
    "- `centroid_df`: path to the .csv file with image and centroid data\n",
    "\n",
    "CELL 4:\n",
    "- This notebook is assuming images are in .tif format.  If images are in .jpg format, cell 4 will need to be commented out.  If images are in a different format, '.tif' will need to be replaced by the string of the image format type.  \n",
    "\n",
    "TO DOs:\n",
    "- Need to make reproducible\n",
    "- Need to clean comments"
   ]
  },
  {
   "cell_type": "code",
   "execution_count": 1,
   "metadata": {},
   "outputs": [],
   "source": [
    "# Import packages\n",
    "import os\n",
    "from glob import glob\n",
    "from osgeo import gdal, osr\n",
    "\n",
    "import pandas as pd\n",
    "import pyproj\n",
    "from pyproj import Proj\n",
    "\n",
    "import earthpy as et"
   ]
  },
  {
   "cell_type": "code",
   "execution_count": 2,
   "metadata": {},
   "outputs": [],
   "source": [
    "# Answer these questions to run through the remainder of the notebook:\n",
    "\n",
    "# What format are the images in: .jpg vs. .tif?\n",
    "img_format = '.tif'\n",
    "\n",
    "# What is the .csv name with images and centroid data?\n",
    "# FOR TESTING: 'ElPaso_Batch1_YL_20180124_geometa.csv'\n",
    "specified_df = 'Weld_20200430132018_DD.csv'\n",
    "\n",
    "# What is the pixel size and width?\n",
    "# Remember to use to use negative for second variable\n",
    "pixel_size_estim = 0.950938\n",
    "neg_pixel_size_estim = -0.950938"
   ]
  },
  {
   "cell_type": "code",
   "execution_count": 3,
   "metadata": {},
   "outputs": [],
   "source": [
    "# Set paths and import all images with specified format\n",
    "img_input_path = glob(os.path.join('images', '*' + img_format))\n",
    "\n",
    "# Create/Set path for georeferenced images\n",
    "output_dir = os.path.join('outputs')\n",
    "if not os.path.exists(output_dir):\n",
    "    os.makedirs(output_dir)\n",
    "\n",
    "# Import dataframe with images and centroid data\n",
    "centroid_df_path = os.path.join(specified_df)\n",
    "centroid_df = pd.read_csv(centroid_df_path)"
   ]
  },
  {
   "cell_type": "code",
   "execution_count": 4,
   "metadata": {},
   "outputs": [],
   "source": [
    "# COMMENT OUT IF WORKING WITH .JPG IMAGES\n",
    "# Format name in dataframe from .jpg to .tif\n",
    "centroid_df.lnexp_MEDIAFILENAME = centroid_df.lnexp_MEDIAFILENAME.replace({'.jpg':'.tif'}, regex=True)"
   ]
  },
  {
   "cell_type": "code",
   "execution_count": 5,
   "metadata": {},
   "outputs": [
    {
     "name": "stdout",
     "output_type": "stream",
     "text": [
      "Corresponding image and coordinate data missing from: ag274055.tif\n",
      "Corresponding image and coordinate data missing from: BOW001021.tif\n",
      "Corresponding image and coordinate data missing from: BOW001021_UnProj.tif\n",
      "Corresponding image and coordinate data missing from: olneySprings_modified.tif\n",
      "Corresponding image and coordinate data missing from: olneySprings_UTMZ13.tif\n",
      "Successfully working through image: yb002045.tif\n"
     ]
    }
   ],
   "source": [
    "# Loop through image names for centroid and georeferencing\n",
    "for images in img_input_path:\n",
    "    src_ds = gdal.Open(images)\n",
    "        \n",
    "    # Selecting only name of source image (removes diectory part of path)\n",
    "    img_src_name = os.path.basename(os.path.normpath(images))\n",
    "    \n",
    "    # Filtering to images with corresponding centroid data\n",
    "    if img_src_name in centroid_df.lnexp_MEDIAFILENAME.values:  \n",
    "        print('Successfully working through image:', img_src_name)\n",
    "        \n",
    "        # Describe source image size\n",
    "        x_height = src_ds.RasterXSize\n",
    "        y_width = src_ds.RasterYSize\n",
    "        #print(x_height, y_width)\n",
    "\n",
    "        # Grabbing image centroid coordinates from dataframe\n",
    "        lon = centroid_df.loc[centroid_df['lnexp_MEDIAFILENAME']==img_src_name, 'DDX'].iloc[0]\n",
    "        lat = centroid_df.loc[centroid_df['lnexp_MEDIAFILENAME']==img_src_name, 'DDY'].iloc[0]\n",
    "        #print(lon, lat)\n",
    "        \n",
    "        # Reprojection\n",
    "        myProj = Proj(\"+proj=utm +zone=13N, +north +ellps=WGS84 +datum=WGS84 +units=m +no_defs\")\n",
    "        easting,northing = myProj(lon, lat) \n",
    "        #print('Centroid UTM coordinates: ', easting, northing)\n",
    "\n",
    "        # Counting with pixels from center to top left corner\n",
    "        top_img_pixel = x_height/2\n",
    "        left_img_pixel = y_width/2\n",
    "\n",
    "        # Calculating with coordinates from centroid to top left corner\n",
    "        x_topleft = easting - (pixel_size_estim/2) - (pixel_size_estim * top_img_pixel)\n",
    "        y_topleft = northing + (pixel_size_estim/2) + (pixel_size_estim * left_img_pixel)\n",
    "        #print('Top left UTM coordinates: ', x_topleft, y_topleft)\n",
    "\n",
    "        # Reformatting the image to geotiff\n",
    "        format = 'GTiff'\n",
    "        driver = gdal.GetDriverByName(format)\n",
    "\n",
    "        # Specify year image was taken\n",
    "        year_details = centroid_df.loc[centroid_df['lnexp_MEDIAFILENAME']==img_src_name, 'Date'].iloc[0][5:]\n",
    "        county_details = centroid_df.loc[centroid_df['lnexp_MEDIAFILENAME']==img_src_name, 'County#2'].iloc[0]\n",
    "                \n",
    "        # Create copy with new name\n",
    "        dst_ds = driver.CreateCopy(output_dir + \"//\" + images[7:-4] + \"-\" + year_details + \"-\" + county_details + img_format, src_ds, 0)\n",
    "\n",
    "        # Set top left corner coordinates in UTM with pixel size and rotation\n",
    "        gt = [x_topleft, pixel_size_estim, 0, y_topleft, 0, neg_pixel_size_estim]\n",
    "        dst_ds.SetGeoTransform(gt)\n",
    "\n",
    "        # Assign CRS\n",
    "        epsg = 32613 #utm zone 13n\n",
    "        srs = osr.SpatialReference()\n",
    "        srs.ImportFromEPSG(epsg)\n",
    "        dst_wkt = srs.ExportToWkt()\n",
    "        dst_ds.SetProjection(dst_wkt)\n",
    "\n",
    "        # Close and finalize dst_ds \n",
    "        dst_ds = None \n",
    "        src_ds = None\n",
    "    \n",
    "    else:\n",
    "        print('Corresponding image and coordinate data missing from:',img_src_name)"
   ]
  }
 ],
 "metadata": {
  "kernelspec": {
   "display_name": "Python 3",
   "language": "python",
   "name": "python3"
  },
  "language_info": {
   "codemirror_mode": {
    "name": "ipython",
    "version": 3
   },
   "file_extension": ".py",
   "mimetype": "text/x-python",
   "name": "python",
   "nbconvert_exporter": "python",
   "pygments_lexer": "ipython3",
   "version": "3.7.6"
  },
  "toc": {
   "base_numbering": 1,
   "nav_menu": {},
   "number_sections": true,
   "sideBar": true,
   "skip_h1_title": false,
   "title_cell": "Table of Contents",
   "title_sidebar": "Contents",
   "toc_cell": false,
   "toc_position": {},
   "toc_section_display": true,
   "toc_window_display": false
  }
 },
 "nbformat": 4,
 "nbformat_minor": 4
}
